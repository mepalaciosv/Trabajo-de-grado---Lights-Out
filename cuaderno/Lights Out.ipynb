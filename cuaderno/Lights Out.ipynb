{
 "cells": [
  {
   "cell_type": "code",
   "execution_count": 1,
   "metadata": {},
   "outputs": [
    {
     "name": "stdout",
     "output_type": "stream",
     "text": [
      "14\n"
     ]
    }
   ],
   "source": [
    "import numpy as np\n",
    "from sympy import Matrix\n",
    "#from numpy.linalg import matrix_rank\n",
    "\n",
    "height = 4\n",
    "width = 4\n",
    "\n",
    "def normal_toggling(y_toggle, x_toggle):\n",
    "    toggle = np.zeros((height, width))\n",
    "    \n",
    "    toggle[y_toggle][x_toggle] = 1\n",
    "    \n",
    "    if (y_toggle - 1 >= 0):\n",
    "        toggle[y_toggle - 1][x_toggle] = 1\n",
    "    if (y_toggle + 1 <= height - 1):\n",
    "        toggle[y_toggle + 1][x_toggle] = 1\n",
    "    if (x_toggle - 1 >= 0):\n",
    "        toggle[y_toggle][x_toggle - 1] = 1\n",
    "    if (x_toggle + 1 <= width - 1):\n",
    "        toggle[y_toggle][x_toggle + 1] = 1\n",
    "    \n",
    "    return toggle\n",
    "\n",
    "def normal_building(height, width):\n",
    "    adjacency = np.zeros((0, height*width))\n",
    "    \n",
    "    for i in range(height):\n",
    "        for j in range(width):\n",
    "            toggle = normal_toggling(i, j)\n",
    "            row = toggle.flatten()\n",
    "            adjacency = np.vstack((adjacency,row))\n",
    "    \n",
    "    return adjacency\n",
    "    \n",
    "\n",
    "adjacency = Matrix(normal_building(height, width))\n",
    "#print(adjacency)\n",
    "rank = adjacency.rank() \n",
    "print(rank)\n",
    "\n",
    "#NoC = np.size(adjacency,1)\n",
    "#print(NoC)\n",
    "#rank = matrix_rank(adjacency)\n",
    "#print(rank)\n",
    "#nullity = NoC - rank\n",
    "\n",
    "#print(adjacency)\n",
    "#print(rank)"
   ]
  },
  {
   "cell_type": "code",
   "execution_count": null,
   "metadata": {},
   "outputs": [],
   "source": []
  },
  {
   "cell_type": "code",
   "execution_count": null,
   "metadata": {},
   "outputs": [],
   "source": []
  }
 ],
 "metadata": {
  "kernelspec": {
   "display_name": "Python 3",
   "language": "python",
   "name": "python3"
  },
  "language_info": {
   "codemirror_mode": {
    "name": "ipython",
    "version": 3
   },
   "file_extension": ".py",
   "mimetype": "text/x-python",
   "name": "python",
   "nbconvert_exporter": "python",
   "pygments_lexer": "ipython3",
   "version": "3.7.4"
  }
 },
 "nbformat": 4,
 "nbformat_minor": 2
}
