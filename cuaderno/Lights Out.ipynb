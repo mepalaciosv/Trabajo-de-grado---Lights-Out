{
 "cells": [
  {
   "cell_type": "markdown",
   "metadata": {},
   "source": [
    "# Código usado para la obtención de resultados"
   ]
  },
  {
   "cell_type": "markdown",
   "metadata": {},
   "source": [
    "Importo las librerías que voy a usar."
   ]
  },
  {
   "cell_type": "code",
   "execution_count": null,
   "metadata": {},
   "outputs": [],
   "source": [
    "import numpy as np\n",
    "from time import time\n",
    "\n",
    "import matplotlib.pyplot as plt\n",
    "import pandas as pd\n",
    "import seaborn as sb"
   ]
  },
  {
   "cell_type": "markdown",
   "metadata": {},
   "source": [
    "Defino funciones para generar las matrices de adyacencia del $\\textit{Lights Out clásico}$, estas son compatibles con tableros rectangulares de tamaño arbitrario:"
   ]
  },
  {
   "cell_type": "code",
   "execution_count": null,
   "metadata": {},
   "outputs": [],
   "source": [
    "def accion_clasico(y_toggle, x_toggle, height, width):\n",
    "    # Esta función genera una matriz que al aplanarse (función flatten)\n",
    "    # coincide con la acción del botón correspondiente al índice \n",
    "    # determinado por sus coordenadas\n",
    "    \n",
    "    # Comienzo con una matriz nula de tamaño dado\n",
    "    toggle = np.zeros((height, width))\n",
    "    # El botón que se presiona sufre alternación \n",
    "    toggle[y_toggle][x_toggle] = 1\n",
    "    \n",
    "    # Valido condiciones de que los vecinos no diagonales estén\n",
    "    # contenidos en los límites del tablero, si se cumplen\n",
    "    # es porque el botón sufre alternación\n",
    "    if (y_toggle - 1 >= 0):          # Botón superior\n",
    "        toggle[y_toggle - 1][x_toggle] = 1\n",
    "    if (y_toggle + 1 <= height - 1): # Botón inferior\n",
    "        toggle[y_toggle + 1][x_toggle] = 1\n",
    "    if (x_toggle - 1 >= 0):          # Botón izquierdo\n",
    "        toggle[y_toggle][x_toggle - 1] = 1\n",
    "    if (x_toggle + 1 <= width - 1):  # Botón derecho\n",
    "        toggle[y_toggle][x_toggle + 1] = 1\n",
    "    \n",
    "    return toggle # Con la matriz construida hago retorno\n",
    "\n",
    "def construccion_clasico(height, width):\n",
    "    # Esta función construye la matriz de adyacencia a partir de \n",
    "    # las acciones de los botones del tablero\n",
    "    \n",
    "    # Inicio creando una matriz compatible sin elementos, esto \n",
    "    # es un truco para que al agregar filas no haya problemas\n",
    "    adjacency = np.zeros((0, height*width))\n",
    "    \n",
    "    # El proceso se hace una vez por cada botón del tablero\n",
    "    for i in range(height):\n",
    "        for j in range(width):\n",
    "            # Construyo la acción como matriz en el orden de indexación\n",
    "            toggle = accion_clasico(i, j, height, width)\n",
    "            # La aplano en forma de fila como en el modelo algebraico\n",
    "            row = toggle.flatten()\n",
    "            # Añado la fila construida a la matriz de adyacencia\n",
    "            adjacency = np.vstack((adjacency,row))\n",
    "    \n",
    "    # Retorno la matriz como lista porque el algoritmo que haya la\n",
    "    # matriz rref fue implementado para trabajar con este tipo de dato\n",
    "    return adjacency.tolist()"
   ]
  },
  {
   "cell_type": "markdown",
   "metadata": {},
   "source": [
    "Defino funciones para generar las matrices de adyacencia de la $\\textit{variante toroidal de Lights Out}$, estas son compatibles con tableros rectangulares de tamaño arbitrario:"
   ]
  },
  {
   "cell_type": "code",
   "execution_count": null,
   "metadata": {},
   "outputs": [],
   "source": [
    "def accion_toroidal(y_toggle, x_toggle, height, width):\n",
    "    # Esta función hace el proceso de la función 'accion_normal'\n",
    "    # pero para la variante toroidal, por lo que su lógica es\n",
    "    # casi idéntica\n",
    "    toggle = np.zeros((height, width))\n",
    "    \n",
    "    toggle[y_toggle][x_toggle] = 1\n",
    "    \n",
    "    # Sólo cambia en que cuando un vecino no diagonal escapa de\n",
    "    # los límites del tablero, se marca la alternancia en el\n",
    "    # borde opuesto del tablero\n",
    "    if (y_toggle - 1 >= 0):\n",
    "        toggle[y_toggle - 1][x_toggle] = 1\n",
    "    else:\n",
    "        toggle[height - 1][x_toggle] = 1\n",
    "    if (y_toggle + 1 <= height - 1):\n",
    "        toggle[y_toggle + 1][x_toggle] = 1\n",
    "    else:\n",
    "        toggle[0][x_toggle] = 1\n",
    "    if (x_toggle - 1 >= 0):\n",
    "        toggle[y_toggle][x_toggle - 1] = 1\n",
    "    else:\n",
    "        toggle[y_toggle][width - 1] = 1\n",
    "    if (x_toggle + 1 <= width - 1):\n",
    "        toggle[y_toggle][x_toggle + 1] = 1\n",
    "    else:\n",
    "        toggle[y_toggle][0] = 1\n",
    "    \n",
    "    return toggle\n",
    "\n",
    "def construccion_toroidal(height, width):\n",
    "    # Esta función hace el proceso de la función 'construccion_normal'\n",
    "    # pero para la variante toroidal, por lo que su lógica es\n",
    "    # casi idéntica\n",
    "    adjacency = np.zeros((0, height*width))\n",
    "    \n",
    "    for i in range(height):\n",
    "        for j in range(width):\n",
    "            # Sólo cambia al depender de las acciones toroidales\n",
    "            toggle = accion_toroidal(i, j, height, width)\n",
    "            row = toggle.flatten()\n",
    "            adjacency = np.vstack((adjacency,row))\n",
    "    \n",
    "    return adjacency.tolist()"
   ]
  },
  {
   "cell_type": "markdown",
   "metadata": {},
   "source": [
    "Se definen dos funciones: una que calcula el opuesto aditivo de un número $e$ en el cuerpo $\\mathbb{Z}/m\\mathbb{Z}$ con $m$ dado y otra que, de forma similar, calcula su opuesto multiplicativo:"
   ]
  },
  {
   "cell_type": "code",
   "execution_count": null,
   "metadata": {},
   "outputs": [],
   "source": [
    "def elemento_opuesto(e, base):\n",
    "    # Esta función proviene de la tesis de Salamanca sin cambios;\n",
    "    # busca entre los elementos del cuerpo el primer elemento de\n",
    "    # cero al sumarse con 'e'. Como Z/mZ es un cuerpo, la función\n",
    "    # tiene un retorno único garantizado\n",
    "    for k in range(base):   \n",
    "        if (k + e) % base == 0:   \n",
    "            return k\n",
    "        \n",
    "def elemento_inverso(e, base):\n",
    "    # Esta función proviene de la tesis de Salamanca sin cambios.\n",
    "    # La lógica de esta función es idéntica a la de la función\n",
    "    # 'elemento_opuesto'\n",
    "    for k in range(base):\n",
    "        # Sólo cambia al depender de la estructura multiplicativa\n",
    "        if (k * e) % base == 1:\n",
    "            return k "
   ]
  },
  {
   "cell_type": "markdown",
   "metadata": {},
   "source": [
    "Se define una función que halla la matriz $\\textit{rref}$ de una matriz dada que contenga elementos del cuerpo $\\mathbb{Z}/m\\mathbb{Z}$ por medio del método de Gauss-Jordan. La función funciona apropiadamente siempre que $m$ sea primo:"
   ]
  },
  {
   "cell_type": "code",
   "execution_count": null,
   "metadata": {},
   "outputs": [],
   "source": [
    "def rref_gauss_jordan(L, base):\n",
    "    # Esta función proviene de la tesis de Salamanca, halla la\n",
    "    # matriz rref por medio de reducción de Gauss-Jordan. \n",
    "    # Cambios: la lógica de reducción por filas se pasa a una \n",
    "    # función de nombre 'reduccion_filas' para mejorar la legibilidad. \n",
    "    \n",
    "    # Se recorren todas las filas en orden descendente aplicando\n",
    "    # operaciones de reducción por filas que dependen del valor\n",
    "    # particular de los términos de la diagonal principal\n",
    "    for i in range(len(L)): \n",
    "        \n",
    "        # En caso de que el término que debe ser pivote valga 0.\n",
    "        # Los juegos a trabajar son reflexivos, este caso no les aplica\n",
    "        if L[i][i] == 0:\n",
    "            # Se busca el primer candidato a pivote posible en las\n",
    "            # filas inferiores. Luego se permutan las filas involucradas\n",
    "            for k in range (i + 1, len(L)): \n",
    "                if L[k][i] == 1:     \n",
    "                    filaAux = L[i]   \n",
    "                    L[i] = L[k]   \n",
    "                    L[k] = filaAux  \n",
    "                    break    \n",
    "            # Se anulan los otros términos de la columna sumando filas\n",
    "            L = reduccion_filas(L, base, i)   \n",
    "        \n",
    "        # En caso de que el término que debe ser pivote ya valga 1\n",
    "        elif L[i][i] == 1:  \n",
    "            # Se anulan los otros términos de la columna sumando filas\n",
    "            L = reduccion_filas(L, base, i)\n",
    "                \n",
    "        \n",
    "        # Este caso sólo aplica cuando m >= 2. No se usa en este caso\n",
    "        # donde m = 2\n",
    "        else:  \n",
    "            # Se escala la fila para que el término que debe ser\n",
    "            # ser pivote valga 1\n",
    "            inverso = elemento_inverso(L[i][i], base)\n",
    "            for j in range(len(L[i])):    \n",
    "                L[i][j] = (L[i][j]*inverso) % base      \n",
    "            \n",
    "            # Se anulan los otros términos de la columna sumando filas\n",
    "            L = reduccion_filas(L, base, i)     \n",
    "\n",
    "    return L\n",
    "\n",
    "def reduccion_filas(L, base, i):\n",
    "    # Esta función hace operaciones de reducción por filas sobre las\n",
    "    # filas distintas a la i-ésima, anulando todos los términos de\n",
    "    # la columna distintos al pivote\n",
    "    for j in range(len(L)):   \n",
    "        if L[j][i] != 0 and j != i:\n",
    "            piv = elemento_opuesto(L[j][i], base) \n",
    "            for k in range(len(L[0])): \n",
    "                L[j][k] = (L[j][k] + piv * L[i][k]) % base\n",
    "    return L"
   ]
  },
  {
   "cell_type": "markdown",
   "metadata": {},
   "source": [
    "Se define una función que halla la nulidad de una matriz dada:"
   ]
  },
  {
   "cell_type": "code",
   "execution_count": null,
   "metadata": {},
   "outputs": [],
   "source": [
    "def nulidad(L):  \n",
    "    # Esta función proviene de la tesis de Salamanca sin cambios;\n",
    "    # calcula la nulidad de la matriz como el número de filas\n",
    "    # nulas, para esto recorre las filas e incrementa un contador\n",
    "    # inicialmente nulo con cada nueva fila nula encontrada\n",
    "    cont = 0        \n",
    "    for i in range(len(L)):  \n",
    "        todo_ceros = True     \n",
    "        for j in range(len(L[0])):    \n",
    "            if L[i][j] != 0:      \n",
    "                todo_ceros = False    \n",
    "        if todo_ceros:   \n",
    "            cont += 1 \n",
    "    return cont"
   ]
  },
  {
   "cell_type": "markdown",
   "metadata": {},
   "source": [
    "Defino una función para reproducir los resultados del artículo base:"
   ]
  },
  {
   "cell_type": "code",
   "execution_count": null,
   "metadata": {
    "scrolled": true
   },
   "outputs": [],
   "source": [
    "def res_tab_cuad(a, b, txt_sucesion, txt_tiempo, func_cons):\n",
    "    # Esta función obtiene los valores de nul(A_n) entre dos límites\n",
    "    # (incluyéndolos), además de los tiempos de generación de las \n",
    "    # matrices de adyacencia y las rref. Consigna estos datos en dos\n",
    "    # archivos de texto (.txt) distintos.\n",
    "    # La apertura y cierre oportunos de los .txt mejora los tiempos\n",
    "    # de ejecución\n",
    "    \n",
    "    archivo_suc = open(txt_sucesion + \".txt\", \"a\")\n",
    "    archivo_tiempo = open(txt_tiempo + \".txt\", \"a\")\n",
    "    \n",
    "    # Anotación de límites de las filas\n",
    "    archivo_suc.write(\"lim_inf = \" + str(a) +\" \\n\")\n",
    "    archivo_suc.write(\"lim_sup = \" + str(b) +\" \\n \\n\")\n",
    "    \n",
    "    archivo_tiempo.write(\"lim_inf = \" + str(a) +\" \\n\")\n",
    "    archivo_tiempo.write(\"lim_sup = \" + str(b) +\" \\n \\n\")\n",
    "    \n",
    "    # Anotación de rótulos de las columnas\n",
    "    archivo_suc.write(\"i nul \\n\")\n",
    "    archivo_tiempo.write(\"i t_matriz t_rref \\n\")\n",
    "    \n",
    "    archivo_suc.close()\n",
    "    archivo_tiempo.close()\n",
    "    \n",
    "    for i in range(a, b + 1):\n",
    "        # Matrices de adyacencia y conteo de tiempo\n",
    "        tiempo_inicio = time()\n",
    "        adyacencia = func_cons(i, i)\n",
    "        tiempo_matriz = time() - tiempo_inicio\n",
    "        \n",
    "        # Matrices rref y conteo de tiempo\n",
    "        tiempo_inicio = time()\n",
    "        rref = rref_gauss_jordan(adyacencia, 2)\n",
    "        tiempo_rref = time() - tiempo_inicio\n",
    "        \n",
    "        nul = nulidad(rref) # Cálculo de nul(A_n)\n",
    "        \n",
    "        # Escritura de resultados\n",
    "        archivo_suc = open(txt_sucesion + \".txt\", \"a\")\n",
    "        archivo_tiempo = open(txt_tiempo + \".txt\", \"a\")\n",
    "        \n",
    "        archivo_suc.write(str(i) + \", \" + str(nul) + \"\\n\")\n",
    "        archivo_tiempo.write(str(i) + \", \" + str(tiempo_matriz) + \", \" + str(tiempo_rref) + \"\\n\")\n",
    "        \n",
    "        archivo_suc.close()\n",
    "        archivo_tiempo.close()\n",
    "    \n",
    "    # Espacio adicional entre procesos\n",
    "    archivo_suc = open(txt_sucesion + \".txt\", \"a\")\n",
    "    archivo_tiempo = open(txt_tiempo + \".txt\", \"a\")\n",
    "    \n",
    "    archivo_suc.write(\"\\n\")\n",
    "    archivo_tiempo.write(\"\\n\")\n",
    "    \n",
    "    archivo_suc.close()\n",
    "    archivo_tiempo.close()"
   ]
  },
  {
   "cell_type": "markdown",
   "metadata": {},
   "source": [
    "Defino una función para obtener los resultados necesarios del problema del triángulo:"
   ]
  },
  {
   "cell_type": "code",
   "execution_count": null,
   "metadata": {},
   "outputs": [],
   "source": [
    "def res_tab_arb(a, b, txt_mapa, func_cons):\n",
    "    # Esta función obtiene los valores de la nulidad de la matriz de\n",
    "    # adyacencia entre entre dos límites a <= i <= b (incluyéndolos),\n",
    "    # para todos los tableros rectangulares entre ellos, de esta forma,\n",
    "    # la otra dimensión j del tablero queda libre entre 1 <= j <= i.\n",
    "    # Consigna los datos obtenidos en un archivo de texto.\n",
    "    # La apertura y cierre oportunos de los .txt mejora los tiempos\n",
    "    # de ejecución\n",
    "    \n",
    "    archivo_mapa = open(txt_mapa + \".txt\", \"a\")\n",
    "    \n",
    "    # Anotación de límites de las filas\n",
    "    archivo_mapa.write(\"lim_inf = \" + str(a) +\" \\n\")\n",
    "    archivo_mapa.write(\"lim_sup = \" + str(b) +\" \\n \\n\")\n",
    "    # Anotación de rótulos de las columnas\n",
    "    archivo_mapa.write(\"i j nul \\n\")\n",
    "    \n",
    "    archivo_mapa.close()\n",
    "    \n",
    "    for i in range(a, b + 1):\n",
    "        for j in range(1, i + 1):\n",
    "            # Cálculo de la nulidad entre los límites establecidos\n",
    "            adyacencia = func_cons(i, j)\n",
    "            rref = rref_gauss_jordan(adyacencia, 2)\n",
    "            nul = nulidad(rref)\n",
    "            \n",
    "            # Escritura de resultados\n",
    "            archivo_mapa = open(txt_mapa + \".txt\", \"a\")\n",
    "            archivo_mapa.write(str(i) + \", \" + str(j) + \", \" + str(nul) + \"\\n\")\n",
    "            archivo_mapa.close()\n",
    "    \n",
    "    # Espacio adicional entre procesos\n",
    "    archivo_mapa = open(txt_mapa + \".txt\", \"a\")\n",
    "    archivo_mapa.write(\"\\n\")\n",
    "    archivo_mapa.close()"
   ]
  },
  {
   "cell_type": "markdown",
   "metadata": {},
   "source": [
    "A través de las siguientes lineas reproducimos los resultados computacionales del artículo base:"
   ]
  },
  {
   "cell_type": "code",
   "execution_count": null,
   "metadata": {},
   "outputs": [],
   "source": [
    "res_tab_cuad(1, 60, \"sucesion_clasico\", \"tiempo_clasico\", construccion_clasico)"
   ]
  },
  {
   "cell_type": "code",
   "execution_count": null,
   "metadata": {},
   "outputs": [],
   "source": [
    "res_tab_cuad(1, 60, \"sucesion_toroidal\", \"tiempo_toroidal\", construccion_toroidal)"
   ]
  },
  {
   "cell_type": "markdown",
   "metadata": {},
   "source": [
    "A través de las siguientes lineas calculamos los resultados obtenidos sobre el problema del triángulo:"
   ]
  },
  {
   "cell_type": "code",
   "execution_count": null,
   "metadata": {},
   "outputs": [],
   "source": [
    "res_tab_arb(1, 60, \"mapa_clasico\", construccion_clasico)"
   ]
  },
  {
   "cell_type": "code",
   "execution_count": null,
   "metadata": {},
   "outputs": [],
   "source": [
    "res_tab_arb(1, 60, \"mapa_toroidal\", construccion_toroidal)"
   ]
  },
  {
   "cell_type": "markdown",
   "metadata": {},
   "source": [
    "Defino dos funciones: una para obtener graficas sobre los contenidos del artículo base y otra para obtener gráficas del problema del triángulo.\n",
    "\n",
    "Para ejecutar estas funciones se requiere copiar los archivos de resultados que se van a utilizar en una carpeta interna de nombre 'resultados' y que a estos se les quiten los encabezados. Esto se hace para tener copias intactas con los resultados con los encabezados. Los encabezados son información valiosa sobre el progreso realizado."
   ]
  },
  {
   "cell_type": "code",
   "execution_count": null,
   "metadata": {},
   "outputs": [],
   "source": [
    "def grafica_articulo(archivo, nombre_matriz):\n",
    "    # Esta función grafica los resultados de la reproducción de resultados\n",
    "    # del artículo base para los Lights Out y sus variantes toroidales\n",
    "    \n",
    "    # Lectura del archivo de resultados\n",
    "    df = pd.read_table('resultados/' + archivo + '.txt', sep = ', ', engine = 'python', names = ('Orden', 'Valores'))\n",
    "    \n",
    "    # Definición del tamaño de la figura\n",
    "    sb.set(rc = {'figure.figsize': (20, 15)})\n",
    "    \n",
    "    # Construcción y generación de la imagen\n",
    "    plt.xlabel('$n$')\n",
    "    plt.ylabel('$nul(' + nombre_matriz + ')$')\n",
    "    plt.title('Orden $n$ vs. $nul(' + nombre_matriz + ')$')\n",
    "    plt.plot(df.Orden, df.Valores)\n",
    "\n",
    "def grafica_triangulo(archivo):\n",
    "    # Esta función grafica los resultados del problema del\n",
    "    # triángulo para los Lights Out y sus variantes toroidales\n",
    "    \n",
    "    # Lectura del archivo de resultados\n",
    "    df = pd.read_table('resultados/' + archivo + '.txt', sep = ', ', engine = 'python', names = ('Filas', 'Columnas', 'Valores'))\n",
    "    \n",
    "    # Paso de columnas a un DataFrame\n",
    "    df.drop_duplicates(['Filas', 'Columnas'], inplace = True)\n",
    "    pivot = df.pivot(index = 'Filas', columns = 'Columnas', values = 'Valores')\n",
    "    \n",
    "    # Definición del tamaño de la figura\n",
    "    sb.set(rc = {'figure.figsize': (20, 15)})\n",
    "    # Construcción de la imagen\n",
    "    sb.heatmap(pivot, annot = True)"
   ]
  },
  {
   "cell_type": "markdown",
   "metadata": {},
   "source": [
    "A través de las siguientes lineas graficamos la reproducción de resultados del artículo base:"
   ]
  },
  {
   "cell_type": "code",
   "execution_count": null,
   "metadata": {},
   "outputs": [],
   "source": [
    "grafica_articulo('sucesion_clasico', 'C_n')"
   ]
  },
  {
   "cell_type": "code",
   "execution_count": null,
   "metadata": {},
   "outputs": [],
   "source": [
    "grafica_articulo('sucesion_toroidal', 'T_n')"
   ]
  },
  {
   "cell_type": "markdown",
   "metadata": {},
   "source": [
    "A través de las siguientes lineas graficamos los resultados obtenidos para los problemas del triángulo:"
   ]
  },
  {
   "cell_type": "code",
   "execution_count": null,
   "metadata": {},
   "outputs": [],
   "source": [
    "grafica_triangulo('mapa_clasico')"
   ]
  },
  {
   "cell_type": "code",
   "execution_count": null,
   "metadata": {},
   "outputs": [],
   "source": [
    "grafica_triangulo('mapa_toroidal')"
   ]
  },
  {
   "cell_type": "code",
   "execution_count": null,
   "metadata": {},
   "outputs": [],
   "source": []
  }
 ],
 "metadata": {
  "kernelspec": {
   "display_name": "Python 3",
   "language": "python",
   "name": "python3"
  },
  "language_info": {
   "codemirror_mode": {
    "name": "ipython",
    "version": 3
   },
   "file_extension": ".py",
   "mimetype": "text/x-python",
   "name": "python",
   "nbconvert_exporter": "python",
   "pygments_lexer": "ipython3",
   "version": "3.7.6"
  }
 },
 "nbformat": 4,
 "nbformat_minor": 2
}
